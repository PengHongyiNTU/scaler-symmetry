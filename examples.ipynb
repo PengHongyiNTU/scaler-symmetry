{
 "cells": [
  {
   "cell_type": "markdown",
   "metadata": {},
   "source": [
    "## LoadDataset"
   ]
  },
  {
   "cell_type": "code",
   "execution_count": 2,
   "metadata": {},
   "outputs": [
    {
     "name": "stdout",
     "output_type": "stream",
     "text": [
      "Datset loaded, trainset size: 60000, testset size: 10000\n"
     ]
    }
   ],
   "source": [
    "from parallel import ParallelExecutor, TaskSpec\n",
    "from utils import prepare_dataset\n",
    "trainset, testset = prepare_dataset(\"MNIST\", \"MLP\")\n",
    "print(f\"Datset loaded, trainset size: {len(trainset)}, testset size: {len(testset)}\")"
   ]
  },
  {
   "cell_type": "markdown",
   "metadata": {},
   "source": [
    "之前做了一个实验来判断如果让各weight更orthogonal一点，会不会影响aggregation的结果。\n",
    "在keras里面只需要使用```tf.keras.regularizers.OrthogonalRegularizer```.\n",
    "\n",
    "在Pytorch里需要重写trainer 或者 重写一个loss function"
   ]
  },
  {
   "cell_type": "markdown",
   "metadata": {},
   "source": [
    "##  Trainer"
   ]
  },
  {
   "cell_type": "code",
   "execution_count": null,
   "metadata": {},
   "outputs": [],
   "source": [
    "from trainer import DefaultTrainer\n",
    "import torch \n",
    "class TrainerWithOrthogonalRegularization(DefaultTrainer):\n",
    "    def __init__(self, orthogonal_regularization_factor, *args, **kwargs):\n",
    "        super().__init__(*args, **kwargs)\n",
    "        self.orthogonal_regularization = orthogonal_regularization_factor\n",
    "\n",
    "    def train_step(self, batch):\n",
    "        self.step += 1\n",
    "        self.optimizer.zero_grad()\n",
    "        inputs, targets = batch\n",
    "        inputs, targets = inputs.to(self.device), targets.to(self.device)\n",
    "        outputs = self.model(inputs)\n",
    "        loss = self.criterion(outputs, targets)\n",
    "        loss = loss + self.orthogonal_regularization * self._orthogonal_regularization_loss()\n",
    "        # the same in DefaultTrainer\n",
    "        loss.backward()\n",
    "        self.optimizer.step()\n",
    "        metrics = self.metrics(outputs, targets)\n",
    "        if self.step % self.log_interval == 0:\n",
    "            self.log_metrics(metrics, loss)\n",
    "        \n",
    "    \n",
    "    def _orthogonal_regularization_loss(self) -> torch.Tensor:\n",
    "        self.linear_layers = [module for module in self.model.modules() if isinstance(module, torch.nn.Linear)]\n",
    "        ortho_loss = 0.0\n",
    "        for layer in self.linear_layers:\n",
    "            weight = layer.weight\n",
    "            identity = torch.eye(weight.shape[0], device=weight.device)\n",
    "            ortho_loss += torch.norm(weight.t() @ weight - identity, p='fro')\n",
    "        return ortho_loss\n",
    "             \n",
    "        \n",
    "        \n",
    "    def configure_optimizers(self):\n",
    "        optimizer = super().configure_optimizers()\n",
    "        if self.orthogonal_regularization > 0.0:\n",
    "            optimizer.param_groups[0]['weight_decay'] = 0.0\n",
    "        return optimizer"
   ]
  },
  {
   "cell_type": "markdown",
   "metadata": {},
   "source": []
  }
 ],
 "metadata": {
  "kernelspec": {
   "display_name": "ray",
   "language": "python",
   "name": "python3"
  },
  "language_info": {
   "codemirror_mode": {
    "name": "ipython",
    "version": 3
   },
   "file_extension": ".py",
   "mimetype": "text/x-python",
   "name": "python",
   "nbconvert_exporter": "python",
   "pygments_lexer": "ipython3",
   "version": "3.9.18"
  }
 },
 "nbformat": 4,
 "nbformat_minor": 2
}
